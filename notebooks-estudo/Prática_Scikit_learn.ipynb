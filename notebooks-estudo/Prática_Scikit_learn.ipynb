{
  "cells": [
    {
      "cell_type": "markdown",
      "metadata": {
        "id": "gp81FAElH1_9"
      },
      "source": [
        "# **Atividade Prática**\n",
        "Data: 16/04/2021\n",
        "### Envolve Pré-processamento e os métodos de classificação kNN e Naive Bayes"
      ]
    },
    {
      "cell_type": "markdown",
      "metadata": {
        "id": "SNnzXsulH2Al"
      },
      "source": [
        "### **Detalhes da atividades**\n",
        "\n",
        "O objetivo desta atividade é você colocar em prática o que estudou sobre pré-processamento e comparar o desempenho (em termos de acurácia) dos algoritmos kNN e Naive Bayes."
      ]
    },
    {
      "cell_type": "markdown",
      "metadata": {
        "id": "NNzhk2dHH2Ap"
      },
      "source": [
        "### Nesta atividade nós utilizaremos a base de dados ***Titanic***. \n",
        "---\n",
        "![texto alternativo](https://drive.google.com/uc?export=view&id=1-1jHY_FrynJy-k8GLJ0F5PxBN0SyUOVP) \n",
        "---\n",
        "O objetivo é fazer uma predição se um passageiro sobreviverá ou não. A predição será baseada em atributos como:  idade, gênero, classe, local de embarque, etc."
      ]
    },
    {
      "cell_type": "markdown",
      "metadata": {
        "id": "3cpXaD_xH2Ap"
      },
      "source": [
        "### Obtendo a base\n",
        "Você deve acessar o site da [Kaggle](https://www.kaggle.com/), [Desafio Titanic ](https://www.kaggle.com/c/titanic) e fazer o download de `train.csv` e `test.csv`. "
      ]
    },
    {
      "cell_type": "markdown",
      "metadata": {
        "id": "0qK11OChH2Aq"
      },
      "source": [
        "Na célula abaixo, você deve carregar a base de dados utilizando Pandas. \n",
        "A base de dados já está dividida em um conjunto de treino (training set) e um conjunto de teste (test set). "
      ]
    },
    {
      "cell_type": "code",
      "execution_count": 1,
      "metadata": {
        "id": "fPn8qiVqQ45-"
      },
      "outputs": [],
      "source": [
        "import pandas as pd\n",
        "\n",
        "## Continue aqui para carregar a base de treino e a base de teste\n",
        "\n",
        "train_data = pd.read_csv('/home/mariohn/Documentos/VSCODE/Datasets/train.csv')\n",
        "test_data =  pd.read_csv('/home/mariohn/Documentos/VSCODE/Datasets/test.csv')"
      ]
    },
    {
      "cell_type": "markdown",
      "metadata": {
        "id": "i4S9M6E5H2Aq"
      },
      "source": [
        "É importante observar que a base de teste *não* contém os rótulos. Como este problema é um desafio do Kaggle, o objetivo é treinar o melhor modelo possível utilizando a base de treinamento, fazer as predições na base de teste, e submeter essas predições ao site da competição do Kaggle para descobrir o score final. Nesta atividade, entretanto, a submissão das predições ao site da competição não é solicitada."
      ]
    },
    {
      "cell_type": "markdown",
      "metadata": {
        "id": "U7JFsXkzH2Aq"
      },
      "source": [
        "O comando abaixo mostra as linhas iniciais da base de treinamento:"
      ]
    },
    {
      "cell_type": "code",
      "execution_count": 2,
      "metadata": {
        "id": "JY9ourvZH2Ar"
      },
      "outputs": [
        {
          "data": {
            "text/html": [
              "<div>\n",
              "<style scoped>\n",
              "    .dataframe tbody tr th:only-of-type {\n",
              "        vertical-align: middle;\n",
              "    }\n",
              "\n",
              "    .dataframe tbody tr th {\n",
              "        vertical-align: top;\n",
              "    }\n",
              "\n",
              "    .dataframe thead th {\n",
              "        text-align: right;\n",
              "    }\n",
              "</style>\n",
              "<table border=\"1\" class=\"dataframe\">\n",
              "  <thead>\n",
              "    <tr style=\"text-align: right;\">\n",
              "      <th></th>\n",
              "      <th>PassengerId</th>\n",
              "      <th>Survived</th>\n",
              "      <th>Pclass</th>\n",
              "      <th>Name</th>\n",
              "      <th>Sex</th>\n",
              "      <th>Age</th>\n",
              "      <th>SibSp</th>\n",
              "      <th>Parch</th>\n",
              "      <th>Ticket</th>\n",
              "      <th>Fare</th>\n",
              "      <th>Cabin</th>\n",
              "      <th>Embarked</th>\n",
              "    </tr>\n",
              "  </thead>\n",
              "  <tbody>\n",
              "    <tr>\n",
              "      <th>0</th>\n",
              "      <td>1</td>\n",
              "      <td>0</td>\n",
              "      <td>3</td>\n",
              "      <td>Braund, Mr. Owen Harris</td>\n",
              "      <td>male</td>\n",
              "      <td>22.0</td>\n",
              "      <td>1</td>\n",
              "      <td>0</td>\n",
              "      <td>A/5 21171</td>\n",
              "      <td>7.2500</td>\n",
              "      <td>NaN</td>\n",
              "      <td>S</td>\n",
              "    </tr>\n",
              "    <tr>\n",
              "      <th>1</th>\n",
              "      <td>2</td>\n",
              "      <td>1</td>\n",
              "      <td>1</td>\n",
              "      <td>Cumings, Mrs. John Bradley (Florence Briggs Th...</td>\n",
              "      <td>female</td>\n",
              "      <td>38.0</td>\n",
              "      <td>1</td>\n",
              "      <td>0</td>\n",
              "      <td>PC 17599</td>\n",
              "      <td>71.2833</td>\n",
              "      <td>C85</td>\n",
              "      <td>C</td>\n",
              "    </tr>\n",
              "    <tr>\n",
              "      <th>2</th>\n",
              "      <td>3</td>\n",
              "      <td>1</td>\n",
              "      <td>3</td>\n",
              "      <td>Heikkinen, Miss. Laina</td>\n",
              "      <td>female</td>\n",
              "      <td>26.0</td>\n",
              "      <td>0</td>\n",
              "      <td>0</td>\n",
              "      <td>STON/O2. 3101282</td>\n",
              "      <td>7.9250</td>\n",
              "      <td>NaN</td>\n",
              "      <td>S</td>\n",
              "    </tr>\n",
              "    <tr>\n",
              "      <th>3</th>\n",
              "      <td>4</td>\n",
              "      <td>1</td>\n",
              "      <td>1</td>\n",
              "      <td>Futrelle, Mrs. Jacques Heath (Lily May Peel)</td>\n",
              "      <td>female</td>\n",
              "      <td>35.0</td>\n",
              "      <td>1</td>\n",
              "      <td>0</td>\n",
              "      <td>113803</td>\n",
              "      <td>53.1000</td>\n",
              "      <td>C123</td>\n",
              "      <td>S</td>\n",
              "    </tr>\n",
              "    <tr>\n",
              "      <th>4</th>\n",
              "      <td>5</td>\n",
              "      <td>0</td>\n",
              "      <td>3</td>\n",
              "      <td>Allen, Mr. William Henry</td>\n",
              "      <td>male</td>\n",
              "      <td>35.0</td>\n",
              "      <td>0</td>\n",
              "      <td>0</td>\n",
              "      <td>373450</td>\n",
              "      <td>8.0500</td>\n",
              "      <td>NaN</td>\n",
              "      <td>S</td>\n",
              "    </tr>\n",
              "  </tbody>\n",
              "</table>\n",
              "</div>"
            ],
            "text/plain": [
              "   PassengerId  Survived  Pclass  \\\n",
              "0            1         0       3   \n",
              "1            2         1       1   \n",
              "2            3         1       3   \n",
              "3            4         1       1   \n",
              "4            5         0       3   \n",
              "\n",
              "                                                Name     Sex   Age  SibSp  \\\n",
              "0                            Braund, Mr. Owen Harris    male  22.0      1   \n",
              "1  Cumings, Mrs. John Bradley (Florence Briggs Th...  female  38.0      1   \n",
              "2                             Heikkinen, Miss. Laina  female  26.0      0   \n",
              "3       Futrelle, Mrs. Jacques Heath (Lily May Peel)  female  35.0      1   \n",
              "4                           Allen, Mr. William Henry    male  35.0      0   \n",
              "\n",
              "   Parch            Ticket     Fare Cabin Embarked  \n",
              "0      0         A/5 21171   7.2500   NaN        S  \n",
              "1      0          PC 17599  71.2833   C85        C  \n",
              "2      0  STON/O2. 3101282   7.9250   NaN        S  \n",
              "3      0            113803  53.1000  C123        S  \n",
              "4      0            373450   8.0500   NaN        S  "
            ]
          },
          "execution_count": 2,
          "metadata": {},
          "output_type": "execute_result"
        }
      ],
      "source": [
        "train_data.head()"
      ]
    },
    {
      "cell_type": "code",
      "execution_count": 3,
      "metadata": {
        "id": "GYwlBTKZwAwL"
      },
      "outputs": [
        {
          "name": "stdout",
          "output_type": "stream",
          "text": [
            "Particao de Treino (891, 12)\n",
            "Particao de Teste (418, 11)\n"
          ]
        }
      ],
      "source": [
        "#Como as instâncias estão distribuídas entre as partições?\n",
        "print(\"Particao de Treino\", train_data.shape)\n",
        "print(\"Particao de Teste\", test_data.shape)"
      ]
    },
    {
      "cell_type": "markdown",
      "metadata": {
        "id": "3R2azbvLwMAO"
      },
      "source": [
        "A partição de treino tem **891 instâncias** e **11 atributos** (constam 12 porque um deles é o rótulo da instância), enquanto a base de teste tem **418 instâncias** e, obviamente, a mesma quantidade de atributos."
      ]
    },
    {
      "cell_type": "markdown",
      "metadata": {
        "id": "bZJCG0NmH2Ar"
      },
      "source": [
        "Os atributos têm o seguinte significado:\n",
        "* **Survived**: Essa é a classe (alvo), 0: não sobreviveu; 1: sobreviveu.\n",
        "* **Pclass**: É a classe do passageiro, isto é, se o passageiro estava na primeira classe, na segunda, etc.\n",
        "* **Name**, **Sex**, **Age**: autoexplicativo\n",
        "* **SibSp**: quantos irmãos e esposas/maridos do passageiro estavam a bordo do Titanic.\n",
        "* **Parch**: quantos filhos e pais do passageiro estavam a bordo do Titanic.\n",
        "* **Ticket**: id do bilhete\n",
        "* **Fare**: preço pago (em Libras)\n",
        "* **Cabin**: número da cabine do passageiro\n",
        "* **Embarked**: local de embarque do passageiro"
      ]
    },
    {
      "cell_type": "markdown",
      "metadata": {
        "id": "kxtVm1vw2GFF"
      },
      "source": [
        "Vamos verificar a divisão das instâncias por classe (0 ou 1):"
      ]
    },
    {
      "cell_type": "code",
      "execution_count": 4,
      "metadata": {
        "id": "a1j0XgaC2aId"
      },
      "outputs": [
        {
          "data": {
            "text/plain": [
              "0    549\n",
              "1    342\n",
              "Name: Survived, dtype: int64"
            ]
          },
          "execution_count": 4,
          "metadata": {},
          "output_type": "execute_result"
        }
      ],
      "source": [
        "train_data[\"Survived\"].value_counts()"
      ]
    },
    {
      "cell_type": "markdown",
      "metadata": {
        "id": "Dykc7hKE2e4j"
      },
      "source": [
        "A base está ligeiramente desbalanceada, ou seja, há mais pessoas na classe 0 do que na classe 1. Isso é óbvio, dado o problema analisado."
      ]
    },
    {
      "cell_type": "markdown",
      "metadata": {
        "id": "5bVpiDrpH2Ar"
      },
      "source": [
        "Vamos verificar se há **valores ausentes**:"
      ]
    },
    {
      "cell_type": "code",
      "execution_count": 5,
      "metadata": {
        "id": "zqMTRLbvH2Ar"
      },
      "outputs": [
        {
          "name": "stdout",
          "output_type": "stream",
          "text": [
            "<class 'pandas.core.frame.DataFrame'>\n",
            "RangeIndex: 891 entries, 0 to 890\n",
            "Data columns (total 12 columns):\n",
            " #   Column       Non-Null Count  Dtype  \n",
            "---  ------       --------------  -----  \n",
            " 0   PassengerId  891 non-null    int64  \n",
            " 1   Survived     891 non-null    int64  \n",
            " 2   Pclass       891 non-null    int64  \n",
            " 3   Name         891 non-null    object \n",
            " 4   Sex          891 non-null    object \n",
            " 5   Age          714 non-null    float64\n",
            " 6   SibSp        891 non-null    int64  \n",
            " 7   Parch        891 non-null    int64  \n",
            " 8   Ticket       891 non-null    object \n",
            " 9   Fare         891 non-null    float64\n",
            " 10  Cabin        204 non-null    object \n",
            " 11  Embarked     889 non-null    object \n",
            "dtypes: float64(2), int64(5), object(5)\n",
            "memory usage: 83.7+ KB\n"
          ]
        }
      ],
      "source": [
        "train_data.info()"
      ]
    },
    {
      "cell_type": "markdown",
      "metadata": {
        "id": "JPNUt9TkH2Ar"
      },
      "source": [
        "Como pode ser observado, os atributos **Age**, **Cabin** e **Embarked** apresentam valores ausentes (*null*), pois esses atributos têm menos de 891 valores *non-null*. \n",
        "- O atributo **Cabin** é o que mais sofre com ausência de atributos (77% são *null*).  \n",
        "- O atributo **Age** tem cerca 19% de valores ausentes.\n",
        "---\n",
        "* Portanto, será necessário fazer a imputação dos valores ausentes. Por exemplo, substituir os valores *null* pela idade média no atributo **Age**  parece bem razoável.\n",
        "\n",
        "* É importante lembrar que o classificador Naive Bayes funciona muito bem com valores ausentes, ou seja, não é necessário fazer imputação de valores ausentes. Porém, esse processo será feito para facilitar a comparação entre Naive Bayes e kNN."
      ]
    },
    {
      "cell_type": "markdown",
      "metadata": {
        "id": "SDlhBCqBH2At"
      },
      "source": [
        "Vamos ver detalhes de alguns dos **atributos categóticos**."
      ]
    },
    {
      "cell_type": "code",
      "execution_count": 6,
      "metadata": {
        "id": "gOBUetg1H2At"
      },
      "outputs": [
        {
          "data": {
            "text/plain": [
              "3    491\n",
              "1    216\n",
              "2    184\n",
              "Name: Pclass, dtype: int64"
            ]
          },
          "execution_count": 6,
          "metadata": {},
          "output_type": "execute_result"
        }
      ],
      "source": [
        "train_data[\"Pclass\"].value_counts()"
      ]
    },
    {
      "cell_type": "code",
      "execution_count": 7,
      "metadata": {
        "id": "nEXcjPGSH2At"
      },
      "outputs": [
        {
          "data": {
            "text/plain": [
              "male      577\n",
              "female    314\n",
              "Name: Sex, dtype: int64"
            ]
          },
          "execution_count": 7,
          "metadata": {},
          "output_type": "execute_result"
        }
      ],
      "source": [
        "train_data[\"Sex\"].value_counts()"
      ]
    },
    {
      "cell_type": "code",
      "execution_count": 8,
      "metadata": {
        "id": "90RhWLHEH2At"
      },
      "outputs": [
        {
          "data": {
            "text/plain": [
              "S    644\n",
              "C    168\n",
              "Q     77\n",
              "Name: Embarked, dtype: int64"
            ]
          },
          "execution_count": 8,
          "metadata": {},
          "output_type": "execute_result"
        }
      ],
      "source": [
        "train_data[\"Embarked\"].value_counts()"
      ]
    },
    {
      "cell_type": "markdown",
      "metadata": {
        "id": "ZxKyCz_nH2At"
      },
      "source": [
        "Os valores do atributo **Embarked** são os seguintes: C=Cherbourg, Q=Queenstown, S=Southampton."
      ]
    },
    {
      "cell_type": "markdown",
      "metadata": {
        "id": "PcXVTwW54FGc"
      },
      "source": [
        "Os atributos numéricos são detalhados no comando da célula abaixo:\n"
      ]
    },
    {
      "cell_type": "code",
      "execution_count": 10,
      "metadata": {
        "id": "6Ki4bdah4ODp"
      },
      "outputs": [
        {
          "data": {
            "text/html": [
              "<div>\n",
              "<style scoped>\n",
              "    .dataframe tbody tr th:only-of-type {\n",
              "        vertical-align: middle;\n",
              "    }\n",
              "\n",
              "    .dataframe tbody tr th {\n",
              "        vertical-align: top;\n",
              "    }\n",
              "\n",
              "    .dataframe thead th {\n",
              "        text-align: right;\n",
              "    }\n",
              "</style>\n",
              "<table border=\"1\" class=\"dataframe\">\n",
              "  <thead>\n",
              "    <tr style=\"text-align: right;\">\n",
              "      <th></th>\n",
              "      <th>PassengerId</th>\n",
              "      <th>Survived</th>\n",
              "      <th>Pclass</th>\n",
              "      <th>Age</th>\n",
              "      <th>SibSp</th>\n",
              "      <th>Parch</th>\n",
              "      <th>Fare</th>\n",
              "    </tr>\n",
              "  </thead>\n",
              "  <tbody>\n",
              "    <tr>\n",
              "      <th>count</th>\n",
              "      <td>891.000000</td>\n",
              "      <td>891.000000</td>\n",
              "      <td>891.000000</td>\n",
              "      <td>714.000000</td>\n",
              "      <td>891.000000</td>\n",
              "      <td>891.000000</td>\n",
              "      <td>891.000000</td>\n",
              "    </tr>\n",
              "    <tr>\n",
              "      <th>mean</th>\n",
              "      <td>446.000000</td>\n",
              "      <td>0.383838</td>\n",
              "      <td>2.308642</td>\n",
              "      <td>29.699118</td>\n",
              "      <td>0.523008</td>\n",
              "      <td>0.381594</td>\n",
              "      <td>32.204208</td>\n",
              "    </tr>\n",
              "    <tr>\n",
              "      <th>std</th>\n",
              "      <td>257.353842</td>\n",
              "      <td>0.486592</td>\n",
              "      <td>0.836071</td>\n",
              "      <td>14.526497</td>\n",
              "      <td>1.102743</td>\n",
              "      <td>0.806057</td>\n",
              "      <td>49.693429</td>\n",
              "    </tr>\n",
              "    <tr>\n",
              "      <th>min</th>\n",
              "      <td>1.000000</td>\n",
              "      <td>0.000000</td>\n",
              "      <td>1.000000</td>\n",
              "      <td>0.420000</td>\n",
              "      <td>0.000000</td>\n",
              "      <td>0.000000</td>\n",
              "      <td>0.000000</td>\n",
              "    </tr>\n",
              "    <tr>\n",
              "      <th>25%</th>\n",
              "      <td>223.500000</td>\n",
              "      <td>0.000000</td>\n",
              "      <td>2.000000</td>\n",
              "      <td>20.125000</td>\n",
              "      <td>0.000000</td>\n",
              "      <td>0.000000</td>\n",
              "      <td>7.910400</td>\n",
              "    </tr>\n",
              "    <tr>\n",
              "      <th>50%</th>\n",
              "      <td>446.000000</td>\n",
              "      <td>0.000000</td>\n",
              "      <td>3.000000</td>\n",
              "      <td>28.000000</td>\n",
              "      <td>0.000000</td>\n",
              "      <td>0.000000</td>\n",
              "      <td>14.454200</td>\n",
              "    </tr>\n",
              "    <tr>\n",
              "      <th>75%</th>\n",
              "      <td>668.500000</td>\n",
              "      <td>1.000000</td>\n",
              "      <td>3.000000</td>\n",
              "      <td>38.000000</td>\n",
              "      <td>1.000000</td>\n",
              "      <td>0.000000</td>\n",
              "      <td>31.000000</td>\n",
              "    </tr>\n",
              "    <tr>\n",
              "      <th>max</th>\n",
              "      <td>891.000000</td>\n",
              "      <td>1.000000</td>\n",
              "      <td>3.000000</td>\n",
              "      <td>80.000000</td>\n",
              "      <td>8.000000</td>\n",
              "      <td>6.000000</td>\n",
              "      <td>512.329200</td>\n",
              "    </tr>\n",
              "  </tbody>\n",
              "</table>\n",
              "</div>"
            ],
            "text/plain": [
              "       PassengerId    Survived      Pclass         Age       SibSp  \\\n",
              "count   891.000000  891.000000  891.000000  714.000000  891.000000   \n",
              "mean    446.000000    0.383838    2.308642   29.699118    0.523008   \n",
              "std     257.353842    0.486592    0.836071   14.526497    1.102743   \n",
              "min       1.000000    0.000000    1.000000    0.420000    0.000000   \n",
              "25%     223.500000    0.000000    2.000000   20.125000    0.000000   \n",
              "50%     446.000000    0.000000    3.000000   28.000000    0.000000   \n",
              "75%     668.500000    1.000000    3.000000   38.000000    1.000000   \n",
              "max     891.000000    1.000000    3.000000   80.000000    8.000000   \n",
              "\n",
              "            Parch        Fare  \n",
              "count  891.000000  891.000000  \n",
              "mean     0.381594   32.204208  \n",
              "std      0.806057   49.693429  \n",
              "min      0.000000    0.000000  \n",
              "25%      0.000000    7.910400  \n",
              "50%      0.000000   14.454200  \n",
              "75%      0.000000   31.000000  \n",
              "max      6.000000  512.329200  "
            ]
          },
          "execution_count": 10,
          "metadata": {},
          "output_type": "execute_result"
        }
      ],
      "source": [
        "train_data.describe()"
      ]
    },
    {
      "cell_type": "markdown",
      "metadata": {
        "id": "akLG1_0sH2Au"
      },
      "source": [
        "## **Exercício**:\n",
        " Realize o **pipeline** de pré-processamento dos dados para que a base seja composta apenas por atributos numéricos. Importante: o pré-processamento deve ser feito somente nos atributos - não incluir o rótulo da instância, isto é, a coluna **Survived**.\n",
        "\n",
        "1.   Substitua os valores ausentes dos atributos categóricos pelo valor mais frequente.\n",
        "2.   Substitua os valores ausentes dos atributos numéricos pela média dos valores presentes.\n",
        "3. Utilize OneHotEncoder\n",
        "\n",
        "- Você pode utilizar `Pipeline`, `SimpleImputer` , etc.\n",
        "\n",
        " "
      ]
    },
    {
      "cell_type": "code",
      "execution_count": 18,
      "metadata": {},
      "outputs": [],
      "source": [
        "from sklearn.impute import SimpleImputer\n",
        "from sklearn.pipeline import Pipeline\n",
        "from sklearn.preprocessing import OneHotEncoder, StandardScaler\n",
        "from sklearn.compose import ColumnTransformer\n"
      ]
    },
    {
      "cell_type": "code",
      "execution_count": 19,
      "metadata": {},
      "outputs": [],
      "source": [
        "categorical_features = ['Sex', 'Embarked']\n",
        "numeric_features = ['Age', 'Fare', 'Pclass', 'SibSp', 'Parch']"
      ]
    },
    {
      "cell_type": "code",
      "execution_count": 20,
      "metadata": {},
      "outputs": [],
      "source": [
        "# Criando as etapas do pipeline\n",
        "numeric_transformer = Pipeline(steps=[\n",
        "    ('imputer', SimpleImputer(strategy='median')),\n",
        "    ('scaler', StandardScaler())\n",
        "])\n",
        "\n",
        "categorical_transformer = Pipeline(steps=[\n",
        "    ('imputer', SimpleImputer(strategy='most_frequent')),\n",
        "    ('onehot', OneHotEncoder())\n",
        "])\n",
        "\n",
        "preprocessor = ColumnTransformer(\n",
        "    transformers=[\n",
        "        ('num', numeric_transformer, numeric_features),\n",
        "        ('cat', categorical_transformer, categorical_features)\n",
        "    ]\n",
        ")"
      ]
    },
    {
      "cell_type": "code",
      "execution_count": 21,
      "metadata": {},
      "outputs": [],
      "source": [
        "# Combinando as etapas em um pipeline\n",
        "pipeline = Pipeline(steps=[('preprocessor', preprocessor)])"
      ]
    },
    {
      "cell_type": "code",
      "execution_count": 28,
      "metadata": {},
      "outputs": [],
      "source": [
        "X = train_data.drop('Survived', axis=1)\n",
        "y = train_data['Survived']\n",
        "\n",
        "X_processed = pipeline.fit_transform(X)"
      ]
    },
    {
      "cell_type": "markdown",
      "metadata": {
        "id": "aoe1BXtk_wNO"
      },
      "source": [
        "#Classificação\n",
        "---\n",
        "Nesta etapa nós utilizaremos a base de treinamento para comparar kNN com Naive Bayes.\n",
        "Nós vamos trabalhar com duas partes da base: X_train (contendo as instâncias de treinamento), e y_train, que terá os rótulos das instâncias de treinamento. Por exemplo, veja a criação de y_train abaixo."
      ]
    },
    {
      "cell_type": "code",
      "execution_count": 35,
      "metadata": {
        "id": "7_uiJ4jSAxPj"
      },
      "outputs": [
        {
          "data": {
            "text/plain": [
              "0      0\n",
              "1      1\n",
              "2      1\n",
              "3      1\n",
              "4      0\n",
              "      ..\n",
              "886    0\n",
              "887    1\n",
              "888    0\n",
              "889    1\n",
              "890    0\n",
              "Name: Survived, Length: 891, dtype: int64"
            ]
          },
          "execution_count": 35,
          "metadata": {},
          "output_type": "execute_result"
        }
      ],
      "source": [
        "#Gerando os rótulos da base de treinamento\n",
        "y_train = train_data[\"Survived\"]\n",
        "y_train"
      ]
    },
    {
      "cell_type": "code",
      "execution_count": 36,
      "metadata": {
        "id": "AtDd6S_UaCBG"
      },
      "outputs": [
        {
          "data": {
            "text/plain": [
              "array([[-0.56573646, -0.50244517,  0.82737724, ...,  0.        ,\n",
              "         0.        ,  1.        ],\n",
              "       [ 0.66386103,  0.78684529, -1.56610693, ...,  1.        ,\n",
              "         0.        ,  0.        ],\n",
              "       [-0.25833709, -0.48885426,  0.82737724, ...,  0.        ,\n",
              "         0.        ,  1.        ],\n",
              "       ...,\n",
              "       [-0.1046374 , -0.17626324,  0.82737724, ...,  0.        ,\n",
              "         0.        ,  1.        ],\n",
              "       [-0.25833709, -0.04438104, -1.56610693, ...,  1.        ,\n",
              "         0.        ,  0.        ],\n",
              "       [ 0.20276197, -0.49237783,  0.82737724, ...,  0.        ,\n",
              "         1.        ,  0.        ]])"
            ]
          },
          "execution_count": 36,
          "metadata": {},
          "output_type": "execute_result"
        }
      ],
      "source": [
        "X_train = X_processed\n",
        "X_train"
      ]
    },
    {
      "cell_type": "markdown",
      "metadata": {
        "id": "rAlNzeC7H2Ax"
      },
      "source": [
        "Para facilitar a comparação entre os dois métodos de classificação, nós vamos dividir a base de treinamento em duas partições: treino e validação. Dessa forma, nós treinaremos os modelos na partição de treino e avaliaremos o modelo na partição de validação."
      ]
    },
    {
      "cell_type": "code",
      "execution_count": 37,
      "metadata": {
        "id": "93bl0MmV5Kif"
      },
      "outputs": [
        {
          "name": "stdout",
          "output_type": "stream",
          "text": [
            "(712, 10) (712,)\n",
            "(179, 10) (179,)\n"
          ]
        }
      ],
      "source": [
        "from sklearn.model_selection import train_test_split\n",
        "\n",
        "#Dividindo a base (com seleção de instâncias aleatória)\n",
        "X_treino, X_val, y_treino, y_val = train_test_split(X_train, y_train, test_size=0.2, random_state = 42)\n",
        "\n",
        "#Checando a divisão das instâncias entre as duas bases\n",
        "print(X_treino.shape, y_treino.shape)\n",
        "print(X_val.shape, y_val.shape)\n"
      ]
    },
    {
      "cell_type": "markdown",
      "metadata": {
        "id": "Y5gjDII4aVGO"
      },
      "source": [
        "Chamada dos métodos para uso dos algoritmos de classificação"
      ]
    },
    {
      "cell_type": "code",
      "execution_count": 38,
      "metadata": {
        "id": "9Ku6q0YpH2Ax"
      },
      "outputs": [],
      "source": [
        "# Chamando os métodos que serão utilizados (kNN e Naive Bayes)\n",
        "from sklearn.neighbors import KNeighborsClassifier\n",
        "from sklearn.naive_bayes import GaussianNB\n",
        "\n",
        "# Para avaliação\n",
        "from sklearn.metrics import accuracy_score"
      ]
    },
    {
      "cell_type": "markdown",
      "metadata": {
        "id": "ACxGe86dadcG"
      },
      "source": [
        "Treinando e testando o Naive Bayes"
      ]
    },
    {
      "cell_type": "code",
      "execution_count": 39,
      "metadata": {
        "id": "Mgh_uqmeI5QT"
      },
      "outputs": [
        {
          "name": "stdout",
          "output_type": "stream",
          "text": [
            "0.776536312849162\n"
          ]
        }
      ],
      "source": [
        "#Naive Bayes : gerando o modelo\n",
        "\n",
        "NB_clf = GaussianNB()\n",
        "\n",
        "# Treinando, testando e avaliando\n",
        "NB_clf.fit(X_treino, y_treino)\n",
        "y_pred_NB = NB_clf.predict(X_val)\n",
        "print(accuracy_score(y_val, y_pred_NB))"
      ]
    },
    {
      "cell_type": "markdown",
      "metadata": {
        "id": "5OhrHaK6akId"
      },
      "source": [
        "Treinando e testando o kNN"
      ]
    },
    {
      "cell_type": "code",
      "execution_count": 40,
      "metadata": {
        "id": "Y3PVU5epJ4Y_"
      },
      "outputs": [
        {
          "name": "stdout",
          "output_type": "stream",
          "text": [
            "0.770949720670391\n"
          ]
        }
      ],
      "source": [
        "#kNN : gerando o modelo com número de vizinhos igual a 1\n",
        "\n",
        "kNN_clf = KNeighborsClassifier(n_neighbors=1)\n",
        "\n",
        "# Treinando, testando e avaliando\n",
        "kNN_clf.fit(X_treino, y_treino)\n",
        "y_pred_kNN = kNN_clf.predict(X_val)\n",
        "print(accuracy_score(y_val, y_pred_kNN))"
      ]
    },
    {
      "cell_type": "markdown",
      "metadata": {
        "id": "4pwwyEM8KkI-"
      },
      "source": [
        "## Atividades\n",
        "\n",
        "1.   Teste o classificador kNN variando o valor do parâmetro k. Você deve testar até o valor k = 9\n",
        "\n",
        "\n"
      ]
    },
    {
      "cell_type": "code",
      "execution_count": 41,
      "metadata": {
        "id": "6t2ngTAsRXaB"
      },
      "outputs": [
        {
          "name": "stdout",
          "output_type": "stream",
          "text": [
            "0.7988826815642458\n"
          ]
        }
      ],
      "source": [
        "#kNN : gerando o modelo com número de vizinhos igual a 9\n",
        "\n",
        "kNN_clf_2 = KNeighborsClassifier(n_neighbors=9)\n",
        "\n",
        "# Treinando, testando e avaliando\n",
        "kNN_clf_2.fit(X_treino, y_treino)\n",
        "y_pred_kNN = kNN_clf_2.predict(X_val)\n",
        "print(accuracy_score(y_val, y_pred_kNN))"
      ]
    },
    {
      "cell_type": "markdown",
      "metadata": {
        "id": "KJHzOkVPRTRR"
      },
      "source": [
        "2.  Qual valor de k produzir maior acurácia?\n",
        "3.  Qual algoritmo obteve maior acurácia: kNN ou Naive Bayes?\n",
        "\n"
      ]
    },
    {
      "cell_type": "markdown",
      "metadata": {
        "id": "WZ-8HNiUH2Ax"
      },
      "source": [
        "OBS: Se você desejar submeter a sua resposta ao Kaggle, você deverá executar o pré-processamento na partição de teste e calcular a predição do classificador na base de teste. Por exemplo, supondo que kNN tenha obtido melhor resultado, você deve treinar o kNN com a base de treino completa (X_train), em seguida, você executa o pipeline de pré-processamento na base de teste e calcula a predição do classificador na base de teste. Por exemplo, veja o código a seguir:\n"
      ]
    },
    {
      "cell_type": "code",
      "execution_count": 42,
      "metadata": {
        "id": "ChI_fziqH2Ax"
      },
      "outputs": [],
      "source": [
        "kNN_clf_3 = KNeighborsClassifier(n_neighbors=9)\n",
        "\n",
        "# Treinando, testando e avaliando\n",
        "kNN_clf_3.fit(X_train, y_train)\n",
        "X_test = pipeline.fit_transform(test_data)\n",
        "y_pred = kNN_clf_3.predict(X_test)"
      ]
    },
    {
      "cell_type": "markdown",
      "metadata": {
        "id": "1bPManJ8H2Ax"
      },
      "source": [
        "Na sequência, você pode criar um arquivo CSV  com  essas predições (respeitando o formato esperado pelo Kaggle), e fazer o upload do mesmo para verificar o desempenho do seu classificador. "
      ]
    }
  ],
  "metadata": {
    "colab": {
      "collapsed_sections": [],
      "name": "Prática_Scikit-learn.ipynb",
      "provenance": []
    },
    "kernelspec": {
      "display_name": "Python 3",
      "language": "python",
      "name": "python3"
    },
    "language_info": {
      "codemirror_mode": {
        "name": "ipython",
        "version": 3
      },
      "file_extension": ".py",
      "mimetype": "text/x-python",
      "name": "python",
      "nbconvert_exporter": "python",
      "pygments_lexer": "ipython3",
      "version": "3.10.6"
    },
    "nav_menu": {},
    "toc": {
      "navigate_menu": true,
      "number_sections": true,
      "sideBar": true,
      "threshold": 6,
      "toc_cell": false,
      "toc_section_display": "block",
      "toc_window_display": false
    },
    "vscode": {
      "interpreter": {
        "hash": "916dbcbb3f70747c44a77c7bcd40155683ae19c65e1c03b4aa3499c5328201f1"
      }
    }
  },
  "nbformat": 4,
  "nbformat_minor": 0
}
