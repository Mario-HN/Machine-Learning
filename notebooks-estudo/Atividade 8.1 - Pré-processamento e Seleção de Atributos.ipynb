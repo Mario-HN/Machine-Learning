{
  "nbformat": 4,
  "nbformat_minor": 0,
  "metadata": {
    "colab": {
      "name": "[Exercício] SUPER 01-Preprocessamento-SelaçãoAtributos.ipynb",
      "provenance": [],
      "collapsed_sections": []
    },
    "kernelspec": {
      "name": "python3",
      "display_name": "Python 3"
    },
    "language_info": {
      "name": "python"
    }
  },
  "cells": [
    {
      "cell_type": "markdown",
      "metadata": {
        "id": "G9wXLJcX54K7"
      },
      "source": [
        "## Atividade Prática\n",
        "\n",
        "Data: 21/04/2021\n",
        "\n",
        "Envolve Pré-processamento e os métodos de regressão DecisionTreeRegressor\n",
        "Atividade avaliativa: 10 pontos."
      ]
    },
    {
      "cell_type": "markdown",
      "metadata": {
        "id": "iYgAImgOrvMR"
      },
      "source": [
        "Detalhes da atividade\n",
        "\n",
        "O objetivo desta atividade é você desenvolver um projeto de aprendizagem de maquina aplicando o que métodos e tecnicas estudados nas aulas anteriores. A problematica consiste em realizar a previsão de preço de um automóvel.\n"
      ]
    },
    {
      "cell_type": "markdown",
      "metadata": {
        "id": "nO-h0sPBzkVf"
      },
      "source": [
        "### 1.1 Carregar os dados no Colab\n",
        "\n",
        "* Fazer o download utilizando comandos no Notebook\n"
      ]
    },
    {
      "cell_type": "code",
      "metadata": {
        "id": "J6l_7spcOtaA"
      },
      "source": [
        "!gdown https://drive.google.com/uc?id=16HgSv-IdXNyaesHlkpcYayqJGk2YhP5S"
      ],
      "execution_count": null,
      "outputs": []
    },
    {
      "cell_type": "markdown",
      "metadata": {
        "id": "cKfUMYMcD1FN"
      },
      "source": [
        "### 1.2 Leitura dos dados\n",
        "\n",
        "Os dados da base de dados estão contidos no arquivo autos.csv\n"
      ]
    },
    {
      "cell_type": "code",
      "metadata": {
        "id": "U8Sh7tmz3-G2"
      },
      "source": [
        "# Importando as bibliotecas\n",
        "import os\n",
        "import numpy as np\n",
        "import pandas as pd\n",
        "import matplotlib.pyplot as plt\n",
        "import matplotlib.image as mpimg\n",
        "%matplotlib inline\n",
        "base_path_filename = '/content/autos.csv'"
      ],
      "execution_count": null,
      "outputs": []
    },
    {
      "cell_type": "code",
      "metadata": {
        "id": "m20p0UdPZNst"
      },
      "source": [
        "base = pd.read_csv(base_path_filename, encoding=\"ISO-8859-1\")\n",
        "base.shape"
      ],
      "execution_count": null,
      "outputs": []
    },
    {
      "cell_type": "code",
      "metadata": {
        "id": "iiH9Z5llSFMB"
      },
      "source": [
        "base.keys() # os atributos"
      ],
      "execution_count": null,
      "outputs": []
    },
    {
      "cell_type": "code",
      "metadata": {
        "id": "i84hG4yKSlL2"
      },
      "source": [
        "base.head()"
      ],
      "execution_count": null,
      "outputs": []
    },
    {
      "cell_type": "markdown",
      "metadata": {
        "id": "15ybdAeyTnJM"
      },
      "source": [
        "### 1.3 Exploração  do dataset e pré-processemento\n",
        "\n",
        "Terefas:\n",
        "\n",
        " - A. Verificar dados duplicados e corrigir se necessario\n",
        " - B. Verificar dados com valores faltantes e remover/corrigir se necessário\n",
        " - C. Analisar e eliminar atributos desnecessarios para o projeto\n",
        " - C.1 Algoritmo de Classificação após a seleção de caracterisiticas\n",
        " - D. Particionar os dados para iniciar o treinamento de um algoritimo de aprendizagem de máquina.\n",
        " - E. Algoritmos de Classificação"
      ]
    },
    {
      "cell_type": "markdown",
      "metadata": {
        "id": "jHvNIEo_7shG"
      },
      "source": [
        "Tarefa A"
      ]
    },
    {
      "cell_type": "markdown",
      "metadata": {
        "id": "xsYqa4AidfrT"
      },
      "source": [
        " - Nesta tarefa, o objetivo é eliminar os registros duplicados. A função **duplicated()** do pandas é uma mão na roda..."
      ]
    },
    {
      "cell_type": "code",
      "metadata": {
        "colab": {
          "base_uri": "https://localhost:8080/"
        },
        "id": "6nHVWsmF7Be-",
        "outputId": "d4392bfa-319a-4b2e-ebe5-c9a182d5e717"
      },
      "source": [
        "# Verificar a quantidade de instâncias duplicadas. Use a função sum()\n",
        "# base.duplic.... sum()"
      ],
      "execution_count": null,
      "outputs": [
        {
          "output_type": "execute_result",
          "data": {
            "text/plain": [
              "4"
            ]
          },
          "metadata": {
            "tags": []
          },
          "execution_count": 6
        }
      ]
    },
    {
      "cell_type": "code",
      "metadata": {
        "id": "cGCq8Tgo7Q7s"
      },
      "source": [
        "# apresente os valores que estão duplicados\n",
        "# já pensou se tivesse um filtro pra isso... Tal como:\n",
        "\n",
        "#base[... 'aqui poderia adicionado a instrução de checagem de dados duplicados. Sem a função sum(), claro.']"
      ],
      "execution_count": null,
      "outputs": []
    },
    {
      "cell_type": "code",
      "metadata": {
        "id": "2LtkINVM7cX6"
      },
      "source": [
        "# Agora que conhecemos os dados duplicados, vamos removê-los\n",
        "# existe algo como drop_duplicate... easy easy! Ah, inplace=True, será?\n",
        "base.drop_duplicates(inplace=True)\n",
        "base.shape"
      ],
      "execution_count": null,
      "outputs": []
    },
    {
      "cell_type": "markdown",
      "metadata": {
        "id": "ObQxbrmI7qIB"
      },
      "source": [
        "Tarefa B"
      ]
    },
    {
      "cell_type": "markdown",
      "metadata": {
        "id": "8nTjZWragFwM"
      },
      "source": [
        "- Só recordando, aqui você precisará verificar dados com valores faltantes e remover/corrigir se necessário."
      ]
    },
    {
      "cell_type": "markdown",
      "metadata": {
        "id": "kVHjBTOPgShL"
      },
      "source": [
        "- Uma maneira de verificar se existem valores faltantes com pandas é aplicação da das funções *isnull().sum()*. Testa aí... "
      ]
    },
    {
      "cell_type": "code",
      "metadata": {
        "id": "vB-E8uRF71Mt"
      },
      "source": [
        "base.#[completa 'nóis']"
      ],
      "execution_count": null,
      "outputs": []
    },
    {
      "cell_type": "markdown",
      "metadata": {
        "id": "YMFgZ06_g7ix"
      },
      "source": [
        "- Caso queria visualizar, use o pyplot junto ao seaborn (sns) (apelidado de plt):\n",
        "\n",
        "\n",
        "```\n",
        "plt.figure(figsize = (30,8))\n",
        "\n",
        "sns.heatmap([**nome_base**].isnull(),\n",
        "            yticklabels = 0,\n",
        "            cbar = False)\n",
        "\n",
        "plt.title('Visão geral dos valores faltantes')\n",
        "plt.xlabel('Colunas')\n",
        "plt.show()\n",
        "```\n",
        "\n"
      ]
    },
    {
      "cell_type": "code",
      "metadata": {
        "id": "CjNJuVbFZuQF"
      },
      "source": [
        "# Exemplo de como filtrar um dataframe por uma coluna que que possui valores faltantes\n",
        "base.loc[pd.isnull(base.vehicleType)] # mostra as rows com valores nulos no atributo vehicleType"
      ],
      "execution_count": null,
      "outputs": []
    },
    {
      "cell_type": "markdown",
      "metadata": {
        "id": "kiCmNU7GjUk1"
      },
      "source": [
        "- uma vez que jugue não ser possível acrescentar informações sem adicionar desbalanceamento à base, apenas remova todos os valores faltantes. A função **dropna** faz isso."
      ]
    },
    {
      "cell_type": "code",
      "metadata": {
        "id": "O_BnxSpe8VNs"
      },
      "source": [
        "base.#...(inplace=True)"
      ],
      "execution_count": null,
      "outputs": []
    },
    {
      "cell_type": "code",
      "metadata": {
        "id": "Tzu74XH-8pWL"
      },
      "source": [
        "# base.shape"
      ],
      "execution_count": null,
      "outputs": []
    },
    {
      "cell_type": "markdown",
      "metadata": {
        "id": "TEzYnsN8Ahid"
      },
      "source": [
        "Tarefa C - Analisar e eliminar atributos desnecessarios para o projeto\n"
      ]
    },
    {
      "cell_type": "code",
      "metadata": {
        "id": "kD7PPFeRZQrm"
      },
      "source": [
        "# remoção de atributos que não irão ajudar na previsão do preço\n",
        "lista_atributos = ['dateCrawled','seller','offerType','nrOfPictures','postalCode','lastSeen','dateCreated','name']"
      ],
      "execution_count": null,
      "outputs": []
    },
    {
      "cell_type": "code",
      "metadata": {
        "id": "Oiaf1F89BQG2"
      },
      "source": [
        "base.shape"
      ],
      "execution_count": null,
      "outputs": []
    },
    {
      "cell_type": "code",
      "metadata": {
        "id": "Y49PVbG4Zb9x"
      },
      "source": [
        "# remoção de alguns atributos da base\n",
        "base.drop(lista_atributos, axis=1, inplace=True)\n",
        "base.shape"
      ],
      "execution_count": null,
      "outputs": []
    },
    {
      "cell_type": "markdown",
      "metadata": {
        "id": "fKNQN0y98Yc9"
      },
      "source": [
        "Tarefa C.1 - Analisar e eliminar atributos desnecessarios para o projeto"
      ]
    },
    {
      "cell_type": "markdown",
      "metadata": {
        "id": "FpaGXhWzZWOE"
      },
      "source": [
        "### Seleção univariada"
      ]
    },
    {
      "cell_type": "markdown",
      "metadata": {
        "id": "n2g7TPJrZdoF"
      },
      "source": [
        "Os testes estatísticos podem ser usados ​​para selecionar os recursos que têm a relação mais forte com a variável de saída.\n",
        "\n"
      ]
    },
    {
      "cell_type": "code",
      "metadata": {
        "colab": {
          "base_uri": "https://localhost:8080/"
        },
        "id": "7eaW2r_t8TCs",
        "outputId": "9308b868-6156-4ed9-940a-39aabc5867de"
      },
      "source": [
        "colunas = base.columns\n",
        "colunas"
      ],
      "execution_count": null,
      "outputs": [
        {
          "output_type": "execute_result",
          "data": {
            "text/plain": [
              "Index(['price', 'abtest', 'vehicleType', 'yearOfRegistration', 'gearbox',\n",
              "       'powerPS', 'model', 'kilometer', 'monthOfRegistration', 'fuelType',\n",
              "       'brand', 'notRepairedDamage'],\n",
              "      dtype='object')"
            ]
          },
          "metadata": {
            "tags": []
          },
          "execution_count": 23
        }
      ]
    },
    {
      "cell_type": "code",
      "metadata": {
        "id": "vRIuQEC6hfWD"
      },
      "source": [
        "base"
      ],
      "execution_count": null,
      "outputs": []
    },
    {
      "cell_type": "code",
      "metadata": {
        "id": "Hi5jd5NwgiDR"
      },
      "source": [
        "# como serão avaliados os preços, os rótulos serão do tipo 'price'\n",
        "feats = base[['abtest', 'vehicleType', 'yearOfRegistration', 'gearbox', 'powerPS', 'model', 'kilometer', 'monthOfRegistration', 'fuelType', 'brand', 'notRepairedDamage']].copy()\n",
        "labels = base[['price']].copy()"
      ],
      "execution_count": null,
      "outputs": []
    },
    {
      "cell_type": "code",
      "metadata": {
        "id": "1Lxj-dWGiaAA"
      },
      "source": [
        "feats.dtypes"
      ],
      "execution_count": null,
      "outputs": []
    },
    {
      "cell_type": "code",
      "metadata": {
        "id": "N2JE0Ke121DU"
      },
      "source": [
        "# Converte os tipos de colunas para categorias\n",
        "feats[['abtest', 'vehicleType', 'gearbox', 'model', 'fuelType', 'brand', 'notRepairedDamage']] = feats[['abtest', 'vehicleType', 'gearbox', 'model', 'fuelType', 'brand', 'notRepairedDamage']].astype('category')"
      ],
      "execution_count": null,
      "outputs": []
    },
    {
      "cell_type": "code",
      "metadata": {
        "colab": {
          "base_uri": "https://localhost:8080/"
        },
        "id": "7MsNQ-wMlw4S",
        "outputId": "b219f969-6acb-4f59-9c80-7aa9af4b3b30"
      },
      "source": [
        "feats.dtypes"
      ],
      "execution_count": null,
      "outputs": [
        {
          "output_type": "execute_result",
          "data": {
            "text/plain": [
              "abtest                 category\n",
              "vehicleType            category\n",
              "yearOfRegistration        int64\n",
              "gearbox                category\n",
              "powerPS                   int64\n",
              "model                  category\n",
              "kilometer                 int64\n",
              "monthOfRegistration       int64\n",
              "fuelType               category\n",
              "brand                  category\n",
              "notRepairedDamage      category\n",
              "dtype: object"
            ]
          },
          "metadata": {
            "tags": []
          },
          "execution_count": 64
        }
      ]
    },
    {
      "cell_type": "code",
      "metadata": {
        "id": "TC5SMxcZ25Y9"
      },
      "source": [
        "# atribui o valor numerico as colunas de categorias\n",
        "feats.loc[:,'abtest'] = feats.loc[:,'abtest'].cat.codes\n",
        "feats.loc[:,'vehicleType'] = feats.loc[:,'vehicleType'].cat.codes\n",
        "feats.loc[:,'gearbox'] = feats.loc[:,'gearbox'].cat.codes\n",
        "feats.loc[:,'model'] = feats.loc[:,'model'].cat.codes\n",
        "feats.loc[:,'fuelType'] = feats.loc[:,'fuelType'].cat.codes\n",
        "feats.loc[:,'brand'] = feats.loc[:,'brand'].cat.codes\n",
        "feats.loc[:,'notRepairedDamage'] = feats.loc[:,'notRepairedDamage'].cat.codes\n",
        "feats.head()"
      ],
      "execution_count": null,
      "outputs": []
    },
    {
      "cell_type": "code",
      "metadata": {
        "id": "1QjIbIeToaMP"
      },
      "source": [
        "# recupera os valores me nupy\n",
        "feats = feats.values\n",
        "labels = labels.values"
      ],
      "execution_count": null,
      "outputs": []
    },
    {
      "cell_type": "markdown",
      "metadata": {
        "id": "pNu2czAgfULo"
      },
      "source": [
        "### Identificação automática dos atributos"
      ]
    },
    {
      "cell_type": "markdown",
      "metadata": {
        "id": "ToOnVJEqtb7Y"
      },
      "source": [
        "#### Usando o SelectBest"
      ]
    },
    {
      "cell_type": "code",
      "metadata": {
        "id": "nen_n99bfdUb"
      },
      "source": [
        "from sklearn.feature_selection import SelectKBest\n",
        "from sklearn.feature_selection import f_classif"
      ],
      "execution_count": null,
      "outputs": []
    },
    {
      "cell_type": "code",
      "metadata": {
        "id": "WUrcVYK3c19G"
      },
      "source": [
        "# serão buscados os 6 melhores atributos que melhor define o problema \n",
        "test_labels = SelectKBest(score_func=f_classif, k=6)"
      ],
      "execution_count": null,
      "outputs": []
    },
    {
      "cell_type": "code",
      "metadata": {
        "id": "GDLW00r828sL"
      },
      "source": [
        "fit_labels = test_labels.fit(feats, labels.ravel())"
      ],
      "execution_count": null,
      "outputs": []
    },
    {
      "cell_type": "code",
      "metadata": {
        "id": "LX1eK-Ftc1wa"
      },
      "source": [
        "# apresenta o score de cada característica em relação ao rótulo\n",
        "fit_labels.scores_"
      ],
      "execution_count": null,
      "outputs": []
    },
    {
      "cell_type": "code",
      "metadata": {
        "id": "RX7FUxFlpfhr"
      },
      "source": [
        "# das características apresentadas acima, seleciona as 6 mais relevantes\n",
        "feats_best = fit_labels.transform(feats)\n",
        "# apresenta as 10 primeiras amostras\n",
        "feats_best[:10, :]"
      ],
      "execution_count": null,
      "outputs": []
    },
    {
      "cell_type": "markdown",
      "metadata": {
        "id": "AUAdS8I9q90Y"
      },
      "source": [
        "##### para descobrir quais foram as colunas selecionadas? "
      ]
    },
    {
      "cell_type": "code",
      "metadata": {
        "id": "_qYg1m9-pfe4"
      },
      "source": [
        "col_selects = fit_labels.get_support()\n",
        "col_selects"
      ],
      "execution_count": null,
      "outputs": []
    },
    {
      "cell_type": "code",
      "metadata": {
        "id": "yUXS75Ndpfbz"
      },
      "source": [
        "# a primeia coluna não conta, pois a usamos para o rótulo\n",
        "cols = base.columns[1:]\n",
        "cols[col_selects]"
      ],
      "execution_count": null,
      "outputs": []
    },
    {
      "cell_type": "markdown",
      "metadata": {
        "id": "OCetCC9ethe7"
      },
      "source": [
        "#### Por eliminação de característica recursiva (RFE)\n",
        "\n",
        "\n",
        " - O Recursive Feature Elimination (ou RFE) funciona removendo recursivamente os atributos e construindo um modelo sobre os atributos que permanecem.\n",
        "\n",
        " - O RFE utiliza a precisão do modelo (neste caso usaremos um modelo de regressão logística) para identificar quais atributos (e combinação de atributos) contribuem mais para prever o atributo de destino."
      ]
    },
    {
      "cell_type": "code",
      "metadata": {
        "id": "DeY9wDQPtgkv"
      },
      "source": [
        "from sklearn.feature_selection import RFE\n",
        "from sklearn.linear_model import LogisticRegression"
      ],
      "execution_count": null,
      "outputs": []
    },
    {
      "cell_type": "code",
      "metadata": {
        "id": "ilLh066ot2s6"
      },
      "source": [
        "### ... complete  e apresente quais forams as principais características"
      ],
      "execution_count": null,
      "outputs": []
    },
    {
      "cell_type": "markdown",
      "metadata": {
        "id": "EdfsBAnGvl52"
      },
      "source": [
        "**fit_rfe.suport_** # carrega uma lista de valores verdade sobre as colunas\n",
        "\n",
        "**fit_rfe.ranking_** # Apresenta o ranking que cada atributo ocupou na seleção\n",
        "\n",
        "-  por se tratar de testes aleatórios, é possível que os valores mudem conforme cada execução."
      ]
    },
    {
      "cell_type": "code",
      "metadata": {
        "id": "Ug2vbg3xwneq"
      },
      "source": [
        ""
      ],
      "execution_count": null,
      "outputs": []
    },
    {
      "cell_type": "markdown",
      "metadata": {
        "id": "SBHJcn2RBYBI"
      },
      "source": [
        "Tarefa D - Particionar os dados para iniciar o treinamento de um algoritimo de aprendizagem de máquina"
      ]
    },
    {
      "cell_type": "code",
      "metadata": {
        "id": "sWE-VE12E-3E"
      },
      "source": [
        "X_train = \n",
        "y_train = "
      ],
      "execution_count": null,
      "outputs": []
    },
    {
      "cell_type": "code",
      "metadata": {
        "id": "FINAxRnLEdEn"
      },
      "source": [
        "from sklearn.model_selection import train_test_split\n",
        "\n",
        "#Dividindo a base (com seleção de instâncias aleatória)\n",
        "X_treino, X_val, y_treino, y_val = train_test_split(X_train, y_train, test_size=0.2, random_state = 42)\n",
        "\n",
        "#Checando a divisão das instâncias entre as duas bases\n",
        "print(X_treino.shape, y_treino.shape)\n",
        "print(X_val.shape, y_val.shape)"
      ],
      "execution_count": null,
      "outputs": []
    },
    {
      "cell_type": "markdown",
      "metadata": {
        "id": "YbxZMEiXVI4D"
      },
      "source": [
        "Tarefa E - Algoritmos de Regressão"
      ]
    },
    {
      "cell_type": "code",
      "metadata": {
        "id": "HjNnssQfCL6f"
      },
      "source": [
        "# Chamando os métodos que serão utilizados (DecisionTreeRegressor)\n",
        "from sklearn. import \n",
        "from sklearn. import\n",
        "\n",
        "# Para avaliação\n",
        "from sklearn.metrics import accuracy_score"
      ],
      "execution_count": null,
      "outputs": []
    },
    {
      "cell_type": "code",
      "metadata": {
        "id": "IbdUX4ZAFYEV"
      },
      "source": [
        "# treinando e testando o DecisionTreeRegressor\n"
      ],
      "execution_count": null,
      "outputs": []
    }
  ]
}