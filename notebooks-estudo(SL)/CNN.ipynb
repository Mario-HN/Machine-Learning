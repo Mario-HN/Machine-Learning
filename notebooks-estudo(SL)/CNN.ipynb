{
 "cells": [
  {
   "cell_type": "code",
   "execution_count": 11,
   "metadata": {},
   "outputs": [],
   "source": [
    "import numpy as np\n",
    "import pandas as pd\n",
    "import os\n",
    "import cv2\n",
    "import numpy as np\n",
    "import matplotlib.pyplot as plt\n",
    "import matplotlib.image as mpimg\n",
    "\n",
    "from sklearn.utils import shuffle\n",
    "from sklearn.model_selection import train_test_split\n",
    "\n",
    "import keras\n",
    "\n",
    "from keras.utils import np_utils\n",
    "from keras.models import Sequential\n",
    "from keras.layers import Dense , Activation , Dropout ,Flatten, MaxPool2D, Conv2D\n",
    "from keras.metrics import categorical_accuracy\n",
    "from keras.models import model_from_json\n",
    "from keras.callbacks import ModelCheckpoint\n",
    "from keras.optimizers import *\n",
    "\n",
    "\n",
    "from keras.wrappers.scikit_learn import KerasClassifier\n",
    "from sklearn.model_selection import cross_val_score, cross_val_predict\n",
    "from sklearn.datasets import make_classification\n",
    "from keras.callbacks import EarlyStopping, ModelCheckpoint, ReduceLROnPlateau"
   ]
  },
  {
   "cell_type": "code",
   "execution_count": 18,
   "metadata": {},
   "outputs": [],
   "source": [
    "def residual_block(x, filters):\n",
    "    # convolução 1\n",
    "    x_res = Conv2D(filters=filters, kernel_size=(3, 3), padding='same', activation='relu')(x)\n",
    "    # convolução 2\n",
    "    x_res = Conv2D(filters=filters, kernel_size=(3, 3), padding='same', activation='relu')(x_res)\n",
    "    # convolução 3\n",
    "    x_res = Conv2D(filters=filters, kernel_size=(3, 3), padding='same', activation='relu')(x_res)\n",
    "    # adiciona o residual ao input\n",
    "    x = keras.layers.concatenate([x, x_res])\n",
    "    return x\n",
    "\n",
    "def residual_block_5(x, filters):\n",
    "    # convolução 1\n",
    "    x_res = Conv2D(filters=filters, kernel_size=(3, 3), padding='same', activation='relu')(x)\n",
    "    # convolução 2\n",
    "    x_res = Conv2D(filters=filters, kernel_size=(3, 3), padding='same', activation='relu')(x_res)\n",
    "    # convolução 3\n",
    "    x_res = Conv2D(filters=filters, kernel_size=(3, 3), padding='same', activation='relu')(x_res)\n",
    "    # convolução 4\n",
    "    x_res = Conv2D(filters=filters, kernel_size=(3, 3), padding='same', activation='relu')(x_res)\n",
    "    # convolução 5\n",
    "    x_res = Conv2D(filters=filters, kernel_size=(3, 3), padding='same', activation='relu')(x_res)\n",
    "    # adiciona o residual ao input\n",
    "    x = keras.layers.concatenate([x, x_res])\n",
    "    return x\n",
    "\n",
    "def residual_block_2(x, filters):\n",
    "    # convolução 1\n",
    "    x_res = Conv2D(filters=filters, kernel_size=(3, 3), padding='same', activation='relu')(x)\n",
    "    # convolução 2\n",
    "    x_res = Conv2D(filters=filters, kernel_size=(3, 3), padding='same', activation='relu')(x_res)\n",
    "    # adiciona o residual ao input\n",
    "    x = keras.layers.concatenate([x, x_res])\n",
    "    return x"
   ]
  },
  {
   "cell_type": "code",
   "execution_count": 19,
   "metadata": {},
   "outputs": [
    {
     "ename": "TypeError",
     "evalue": "The added layer must be an instance of class Layer. Received: layer=KerasTensor(type_spec=TensorSpec(shape=(None, 35, 35, 128), dtype=tf.float32, name=None), name='concatenate/concat:0', description=\"created by layer 'concatenate'\") of type <class 'keras.engine.keras_tensor.KerasTensor'>.",
     "output_type": "error",
     "traceback": [
      "\u001b[0;31m---------------------------------------------------------------------------\u001b[0m",
      "\u001b[0;31mTypeError\u001b[0m                                 Traceback (most recent call last)",
      "Cell \u001b[0;32mIn[19], line 7\u001b[0m\n\u001b[1;32m      3\u001b[0m Residual_Model\u001b[39m.\u001b[39madd(Conv2D(filters\u001b[39m=\u001b[39m\u001b[39m64\u001b[39m, kernel_size\u001b[39m=\u001b[39m (\u001b[39m7\u001b[39m,\u001b[39m7\u001b[39m), strides\u001b[39m=\u001b[39m\u001b[39m2\u001b[39m, activation\u001b[39m=\u001b[39m\u001b[39m'\u001b[39m\u001b[39mrelu\u001b[39m\u001b[39m'\u001b[39m, input_shape \u001b[39m=\u001b[39m (\u001b[39m150\u001b[39m, \u001b[39m150\u001b[39m, \u001b[39m1\u001b[39m)))\n\u001b[1;32m      5\u001b[0m Residual_Model\u001b[39m.\u001b[39madd(MaxPool2D(pool_size\u001b[39m=\u001b[39m(\u001b[39m3\u001b[39m,\u001b[39m3\u001b[39m), strides\u001b[39m=\u001b[39m\u001b[39m2\u001b[39m))\n\u001b[0;32m----> 7\u001b[0m Residual_Model\u001b[39m.\u001b[39;49madd(residual_block(Residual_Model\u001b[39m.\u001b[39;49moutput, \u001b[39m64\u001b[39;49m))\n\u001b[1;32m      9\u001b[0m Residual_Model\u001b[39m.\u001b[39madd(Conv2D(filters\u001b[39m=\u001b[39m\u001b[39m128\u001b[39m, kernel_size\u001b[39m=\u001b[39m (\u001b[39m3\u001b[39m,\u001b[39m3\u001b[39m), strides\u001b[39m=\u001b[39m\u001b[39m2\u001b[39m, activation\u001b[39m=\u001b[39m\u001b[39m'\u001b[39m\u001b[39mrelu\u001b[39m\u001b[39m'\u001b[39m))\n\u001b[1;32m     11\u001b[0m Residual_Model\u001b[39m.\u001b[39madd(residual_block(Residual_Model\u001b[39m.\u001b[39moutput, \u001b[39m128\u001b[39m))\n",
      "File \u001b[0;32m~/.local/lib/python3.10/site-packages/tensorflow/python/trackable/base.py:205\u001b[0m, in \u001b[0;36mno_automatic_dependency_tracking.<locals>._method_wrapper\u001b[0;34m(self, *args, **kwargs)\u001b[0m\n\u001b[1;32m    203\u001b[0m \u001b[39mself\u001b[39m\u001b[39m.\u001b[39m_self_setattr_tracking \u001b[39m=\u001b[39m \u001b[39mFalse\u001b[39;00m  \u001b[39m# pylint: disable=protected-access\u001b[39;00m\n\u001b[1;32m    204\u001b[0m \u001b[39mtry\u001b[39;00m:\n\u001b[0;32m--> 205\u001b[0m   result \u001b[39m=\u001b[39m method(\u001b[39mself\u001b[39;49m, \u001b[39m*\u001b[39;49margs, \u001b[39m*\u001b[39;49m\u001b[39m*\u001b[39;49mkwargs)\n\u001b[1;32m    206\u001b[0m \u001b[39mfinally\u001b[39;00m:\n\u001b[1;32m    207\u001b[0m   \u001b[39mself\u001b[39m\u001b[39m.\u001b[39m_self_setattr_tracking \u001b[39m=\u001b[39m previous_value  \u001b[39m# pylint: disable=protected-access\u001b[39;00m\n",
      "File \u001b[0;32m~/.local/lib/python3.10/site-packages/keras/utils/traceback_utils.py:70\u001b[0m, in \u001b[0;36mfilter_traceback.<locals>.error_handler\u001b[0;34m(*args, **kwargs)\u001b[0m\n\u001b[1;32m     67\u001b[0m     filtered_tb \u001b[39m=\u001b[39m _process_traceback_frames(e\u001b[39m.\u001b[39m__traceback__)\n\u001b[1;32m     68\u001b[0m     \u001b[39m# To get the full stack trace, call:\u001b[39;00m\n\u001b[1;32m     69\u001b[0m     \u001b[39m# `tf.debugging.disable_traceback_filtering()`\u001b[39;00m\n\u001b[0;32m---> 70\u001b[0m     \u001b[39mraise\u001b[39;00m e\u001b[39m.\u001b[39mwith_traceback(filtered_tb) \u001b[39mfrom\u001b[39;00m \u001b[39mNone\u001b[39m\n\u001b[1;32m     71\u001b[0m \u001b[39mfinally\u001b[39;00m:\n\u001b[1;32m     72\u001b[0m     \u001b[39mdel\u001b[39;00m filtered_tb\n",
      "File \u001b[0;32m~/.local/lib/python3.10/site-packages/keras/engine/sequential.py:185\u001b[0m, in \u001b[0;36mSequential.add\u001b[0;34m(self, layer)\u001b[0m\n\u001b[1;32m    183\u001b[0m         layer \u001b[39m=\u001b[39m functional\u001b[39m.\u001b[39mModuleWrapper(layer)\n\u001b[1;32m    184\u001b[0m \u001b[39melse\u001b[39;00m:\n\u001b[0;32m--> 185\u001b[0m     \u001b[39mraise\u001b[39;00m \u001b[39mTypeError\u001b[39;00m(\n\u001b[1;32m    186\u001b[0m         \u001b[39m\"\u001b[39m\u001b[39mThe added layer must be an instance of class Layer. \u001b[39m\u001b[39m\"\u001b[39m\n\u001b[1;32m    187\u001b[0m         \u001b[39mf\u001b[39m\u001b[39m\"\u001b[39m\u001b[39mReceived: layer=\u001b[39m\u001b[39m{\u001b[39;00mlayer\u001b[39m}\u001b[39;00m\u001b[39m of type \u001b[39m\u001b[39m{\u001b[39;00m\u001b[39mtype\u001b[39m(layer)\u001b[39m}\u001b[39;00m\u001b[39m.\u001b[39m\u001b[39m\"\u001b[39m\n\u001b[1;32m    188\u001b[0m     )\n\u001b[1;32m    190\u001b[0m tf_utils\u001b[39m.\u001b[39massert_no_legacy_layers([layer])\n\u001b[1;32m    191\u001b[0m \u001b[39mif\u001b[39;00m \u001b[39mnot\u001b[39;00m \u001b[39mself\u001b[39m\u001b[39m.\u001b[39m_is_layer_name_unique(layer):\n",
      "\u001b[0;31mTypeError\u001b[0m: The added layer must be an instance of class Layer. Received: layer=KerasTensor(type_spec=TensorSpec(shape=(None, 35, 35, 128), dtype=tf.float32, name=None), name='concatenate/concat:0', description=\"created by layer 'concatenate'\") of type <class 'keras.engine.keras_tensor.KerasTensor'>."
     ]
    }
   ],
   "source": [
    "Residual_Model = Sequential()\n",
    "\n",
    "Residual_Model.add(Conv2D(filters=64, kernel_size= (7,7), strides=2, activation='relu', input_shape = (150, 150, 1)))\n",
    "\n",
    "Residual_Model.add(MaxPool2D(pool_size=(3,3), strides=2))\n",
    "\n",
    "Residual_Model.add(residual_block(Residual_Model.output, 64))\n",
    "\n",
    "Residual_Model.add(Conv2D(filters=128, kernel_size= (3,3), strides=2, activation='relu'))\n",
    "\n",
    "Residual_Model.add(residual_block(Residual_Model.output, 128))\n",
    "\n",
    "Residual_Model.add(Conv2D(filters=256, kernel_size= (3,3), strides=2, activation='relu'))\n",
    "\n",
    "Residual_Model.add(residual_block_5(Residual_Model.output, 256))\n",
    "\n",
    "Residual_Model.add(Conv2D(filters=512, kernel_size= (3,3), strides=2, activation='relu'))\n",
    "\n",
    "Residual_Model.add(residual_block_2(Residual_Model.output, 512))\n",
    "\n",
    "\n",
    "Residual_Model.summary()"
   ]
  },
  {
   "cell_type": "code",
   "execution_count": null,
   "metadata": {},
   "outputs": [],
   "source": []
  }
 ],
 "metadata": {
  "kernelspec": {
   "display_name": "Python 3",
   "language": "python",
   "name": "python3"
  },
  "language_info": {
   "codemirror_mode": {
    "name": "ipython",
    "version": 3
   },
   "file_extension": ".py",
   "mimetype": "text/x-python",
   "name": "python",
   "nbconvert_exporter": "python",
   "pygments_lexer": "ipython3",
   "version": "3.10.6"
  },
  "orig_nbformat": 4
 },
 "nbformat": 4,
 "nbformat_minor": 2
}
